{
 "cells": [
  {
   "cell_type": "markdown",
   "metadata": {},
   "source": [
    "# WeatherPy\n",
    "----\n",
    "\n",
    "#### Note\n",
    "* Instructions have been included for each segment. You do not have to follow them exactly, but they are included to help you think through the steps."
   ]
  },
  {
   "cell_type": "code",
   "execution_count": 23,
   "metadata": {
    "scrolled": true
   },
   "outputs": [],
   "source": [
    "# Dependencies and Setup\n",
    "import matplotlib.pyplot as plt\n",
    "import pandas as pd\n",
    "import numpy as np\n",
    "import requests\n",
    "import time\n",
    "from scipy.stats import linregress\n",
    "\n",
    "# Import API key\n",
    "from api_keys import weather_api_key\n",
    "\n",
    "# Incorporated citipy to determine city based on latitude and longitude\n",
    "from citipy import citipy\n",
    "\n",
    "# Output File (CSV)\n",
    "output_data_file = \"../output_data/cities.csv\"\n",
    "\n",
    "# Range of latitudes and longitudes\n",
    "lat_range = (-90, 90)\n",
    "lng_range = (-180, 180)"
   ]
  },
  {
   "cell_type": "markdown",
   "metadata": {},
   "source": [
    "## Generate Cities List"
   ]
  },
  {
   "cell_type": "code",
   "execution_count": 4,
   "metadata": {},
   "outputs": [
    {
     "data": {
      "text/plain": [
       "618"
      ]
     },
     "execution_count": 4,
     "metadata": {},
     "output_type": "execute_result"
    }
   ],
   "source": [
    "# # List for holding lat_lngs and cities\n",
    "# lat_lngs = []\n",
    "# cities = []\n",
    "\n",
    "# # Create a set of random lat and lng combinations\n",
    "# lats = np.random.uniform(lat_range[0], lat_range[1], size=1500)\n",
    "# lngs = np.random.uniform(lng_range[0], lng_range[1], size=1500)\n",
    "# lat_lngs = zip(lats, lngs)\n",
    "\n",
    "# # Identify nearest city for each lat, lng combination\n",
    "# for lat_lng in lat_lngs:\n",
    "#     city = citipy.nearest_city(lat_lng[0], lat_lng[1]).city_name\n",
    "    \n",
    "#     # If the city is unique, then add it to a our cities list\n",
    "#     if city not in cities:\n",
    "#         cities.append(city)\n",
    "\n",
    "# # Print the city count to confirm sufficient count\n",
    "# len(cities)"
   ]
  },
  {
   "cell_type": "markdown",
   "metadata": {},
   "source": [
    "### Perform API Calls\n",
    "* Perform a weather check on each city using a series of successive API calls.\n",
    "* Include a print log of each city as it'sbeing processed (with the city number and city name).\n"
   ]
  },
  {
   "cell_type": "code",
   "execution_count": 8,
   "metadata": {},
   "outputs": [
    {
     "data": {
      "text/plain": [
       "{'coord': {'lon': -81.09, 'lat': 32.08},\n",
       " 'weather': [{'id': 800,\n",
       "   'main': 'Clear',\n",
       "   'description': 'clear sky',\n",
       "   'icon': '01n'}],\n",
       " 'base': 'stations',\n",
       " 'main': {'temp': 68.5,\n",
       "  'feels_like': 67.87,\n",
       "  'temp_min': 64.9,\n",
       "  'temp_max': 73.42,\n",
       "  'pressure': 1015,\n",
       "  'humidity': 60},\n",
       " 'visibility': 10000,\n",
       " 'wind': {'speed': 5.75, 'deg': 130},\n",
       " 'clouds': {'all': 0},\n",
       " 'dt': 1665013941,\n",
       " 'sys': {'type': 1,\n",
       "  'id': 5948,\n",
       "  'country': 'US',\n",
       "  'sunrise': 1664968846,\n",
       "  'sunset': 1665011071},\n",
       " 'timezone': -14400,\n",
       " 'id': 4221552,\n",
       " 'name': 'Savannah',\n",
       " 'cod': 200}"
      ]
     },
     "execution_count": 8,
     "metadata": {},
     "output_type": "execute_result"
    }
   ],
   "source": [
    "url = f\"https://api.openweathermap.org/data/2.5/weather?lat={32.08}&lon={-81.09}&appid={weather_api_key}&units=imperial\"\n",
    "city_weather = requests.get(url).json()\n",
    "city_weather"
   ]
  },
  {
   "cell_type": "code",
   "execution_count": 17,
   "metadata": {},
   "outputs": [
    {
     "data": {
      "text/plain": [
       "1665013941"
      ]
     },
     "execution_count": 17,
     "metadata": {},
     "output_type": "execute_result"
    }
   ],
   "source": [
    "lat= city_weather[\"coord\"][\"lat\"]\n",
    "lng= city_weather[\"coord\"][\"lon\"]\n",
    "max_temp= city_weather[\"main\"][\"temp_max\"]\n",
    "humidity= city_weather[\"main\"][\"humidity\"]\n",
    "clouds= city_weather[\"clouds\"][\"all\"]\n",
    "wind= city_weather[\"wind\"][\"speed\"]\n",
    "country= city_weather[\"sys\"][\"country\"]\n",
    "date= city_weather[\"dt\"]\n"
   ]
  },
  {
   "cell_type": "code",
   "execution_count": 18,
   "metadata": {
    "scrolled": true
   },
   "outputs": [
    {
     "name": "stdout",
     "output_type": "stream",
     "text": [
      "Beginning Retrieval\n",
      "-------------------\n",
      "Processing Record 1 of Set 1 | port hawkesbury\n",
      "Processing Record 2 of Set 1 | east london\n",
      "Processing Record 3 of Set 1 | hambantota\n",
      "Processing Record 4 of Set 1 | punta arenas\n",
      "Processing Record 5 of Set 1 | hilo\n",
      "Processing Record 6 of Set 1 | saint-philippe\n",
      "Processing Record 7 of Set 1 | nabire\n",
      "Processing Record 8 of Set 1 | barentsburg\n",
      "not found skipping.\n",
      "Processing Record 9 of Set 1 | grand river south east\n",
      "not found skipping.\n",
      "Processing Record 10 of Set 1 | sancti spiritus\n",
      "Processing Record 11 of Set 1 | gra liyia\n",
      "Processing Record 12 of Set 1 | jamestown\n",
      "Processing Record 13 of Set 1 | college\n",
      "Processing Record 14 of Set 1 | leningradskiy\n",
      "Processing Record 15 of Set 1 | codrington\n",
      "Processing Record 16 of Set 1 | hermanus\n",
      "Processing Record 17 of Set 1 | saint-georges\n",
      "Processing Record 18 of Set 1 | nanortalik\n",
      "Processing Record 19 of Set 1 | mar del plata\n",
      "Processing Record 20 of Set 1 | mataura\n",
      "Processing Record 21 of Set 1 | redlands\n",
      "Processing Record 22 of Set 1 | hobart\n",
      "Processing Record 23 of Set 1 | new norfolk\n",
      "Processing Record 24 of Set 1 | taolanaro\n",
      "not found skipping.\n",
      "Processing Record 25 of Set 1 | hovd\n",
      "Processing Record 26 of Set 1 | albany\n",
      "Processing Record 27 of Set 1 | flin flon\n",
      "Processing Record 28 of Set 1 | beloha\n",
      "Processing Record 29 of Set 1 | cooma\n",
      "Processing Record 30 of Set 1 | cape town\n",
      "Processing Record 31 of Set 1 | sao filipe\n",
      "Processing Record 32 of Set 1 | ola\n",
      "Processing Record 33 of Set 1 | castro\n",
      "Processing Record 34 of Set 1 | ushuaia\n",
      "Processing Record 35 of Set 1 | rikitea\n",
      "Processing Record 36 of Set 1 | saldanha\n",
      "Processing Record 37 of Set 1 | lebu\n",
      "Processing Record 38 of Set 1 | bluff\n",
      "Processing Record 39 of Set 1 | miri\n",
      "Processing Record 40 of Set 1 | avarua\n",
      "Processing Record 41 of Set 1 | chumikan\n",
      "Processing Record 42 of Set 1 | cabo san lucas\n",
      "Processing Record 43 of Set 1 | broken hill\n",
      "Processing Record 44 of Set 1 | marcona\n",
      "not found skipping.\n",
      "Processing Record 45 of Set 1 | henties bay\n",
      "Processing Record 46 of Set 1 | yellowknife\n",
      "Processing Record 47 of Set 1 | kapaa\n",
      "Processing Record 48 of Set 1 | kulhudhuffushi\n",
      "Processing Record 49 of Set 1 | tiksi\n",
      "Processing Record 50 of Set 1 | hun\n",
      "Processing Record 1 of Set 2 | deh rawud\n",
      "not found skipping.\n",
      "Processing Record 2 of Set 2 | barrow\n",
      "Processing Record 3 of Set 2 | port hardy\n",
      "Processing Record 4 of Set 2 | igarka\n",
      "Processing Record 5 of Set 2 | port alfred\n",
      "Processing Record 6 of Set 2 | eureka\n",
      "Processing Record 7 of Set 2 | butaritari\n",
      "Processing Record 8 of Set 2 | tuktoyaktuk\n",
      "Processing Record 9 of Set 2 | ribeira grande\n",
      "Processing Record 10 of Set 2 | maragogi\n",
      "Processing Record 11 of Set 2 | tianpeng\n",
      "Processing Record 12 of Set 2 | souillac\n",
      "Processing Record 13 of Set 2 | havre-saint-pierre\n",
      "Processing Record 14 of Set 2 | jian\n",
      "Processing Record 15 of Set 2 | sarahan\n",
      "Processing Record 16 of Set 2 | alyangula\n",
      "Processing Record 17 of Set 2 | illoqqortoormiut\n",
      "not found skipping.\n",
      "Processing Record 18 of Set 2 | fonte boa\n",
      "Processing Record 19 of Set 2 | saskylakh\n",
      "Processing Record 20 of Set 2 | hamilton\n",
      "Processing Record 21 of Set 2 | axim\n",
      "Processing Record 22 of Set 2 | tasiilaq\n",
      "Processing Record 23 of Set 2 | upernavik\n",
      "Processing Record 24 of Set 2 | bang krathum\n",
      "Processing Record 25 of Set 2 | puerto cabello\n",
      "Processing Record 26 of Set 2 | chuy\n",
      "Processing Record 27 of Set 2 | itarema\n",
      "Processing Record 28 of Set 2 | busselton\n",
      "Processing Record 29 of Set 2 | tura\n",
      "Processing Record 30 of Set 2 | bolsheustikinskoye\n",
      "not found skipping.\n",
      "Processing Record 31 of Set 2 | hailar\n",
      "Processing Record 32 of Set 2 | vaini\n",
      "Processing Record 33 of Set 2 | nikolskoye\n",
      "Processing Record 34 of Set 2 | ozgon\n",
      "not found skipping.\n",
      "Processing Record 35 of Set 2 | puerto ayora\n",
      "Processing Record 36 of Set 2 | louisbourg\n",
      "not found skipping.\n",
      "Processing Record 37 of Set 2 | khatanga\n",
      "Processing Record 38 of Set 2 | mahebourg\n",
      "Processing Record 39 of Set 2 | sao jose da coroa grande\n",
      "Processing Record 40 of Set 2 | taoudenni\n",
      "Processing Record 41 of Set 2 | kaduy\n",
      "Processing Record 42 of Set 2 | ponta delgada\n",
      "Processing Record 43 of Set 2 | havre de grace\n",
      "Processing Record 44 of Set 2 | faanui\n",
      "Processing Record 45 of Set 2 | wenatchee\n",
      "Processing Record 46 of Set 2 | port elizabeth\n",
      "Processing Record 47 of Set 2 | arraial do cabo\n",
      "Processing Record 48 of Set 2 | stanislav\n",
      "Processing Record 49 of Set 2 | bambous virieux\n",
      "Processing Record 50 of Set 2 | toliary\n",
      "not found skipping.\n",
      "Processing Record 1 of Set 3 | agadez\n",
      "Processing Record 2 of Set 3 | kushima\n",
      "Processing Record 3 of Set 3 | marmora\n",
      "Processing Record 4 of Set 3 | attawapiskat\n",
      "not found skipping.\n",
      "Processing Record 5 of Set 3 | nizhneyansk\n",
      "not found skipping.\n",
      "Processing Record 6 of Set 3 | sentyabrskiy\n",
      "not found skipping.\n",
      "Processing Record 7 of Set 3 | angoche\n",
      "Processing Record 8 of Set 3 | kudahuvadhoo\n",
      "Processing Record 9 of Set 3 | talara\n",
      "Processing Record 10 of Set 3 | qafsah\n",
      "not found skipping.\n",
      "Processing Record 11 of Set 3 | qaanaaq\n",
      "Processing Record 12 of Set 3 | airai\n",
      "Processing Record 13 of Set 3 | pevek\n",
      "Processing Record 14 of Set 3 | katsuura\n",
      "Processing Record 15 of Set 3 | bengkulu\n",
      "Processing Record 16 of Set 3 | rio grande\n",
      "Processing Record 17 of Set 3 | thompson\n",
      "Processing Record 18 of Set 3 | salumbar\n",
      "Processing Record 19 of Set 3 | samusu\n",
      "not found skipping.\n",
      "Processing Record 20 of Set 3 | deputatskiy\n",
      "Processing Record 21 of Set 3 | aasiaat\n",
      "Processing Record 22 of Set 3 | chokurdakh\n",
      "Processing Record 23 of Set 3 | ugoofaaru\n",
      "Processing Record 24 of Set 3 | longonjo\n",
      "Processing Record 25 of Set 3 | buala\n",
      "Processing Record 26 of Set 3 | whitecourt\n",
      "Processing Record 27 of Set 3 | victoria\n",
      "Processing Record 28 of Set 3 | quelimane\n",
      "Processing Record 29 of Set 3 | mahajanga\n",
      "Processing Record 30 of Set 3 | kuantan\n",
      "Processing Record 31 of Set 3 | sambava\n",
      "Processing Record 32 of Set 3 | luau\n",
      "Processing Record 33 of Set 3 | watsa\n",
      "Processing Record 34 of Set 3 | ascension\n",
      "Processing Record 35 of Set 3 | atuona\n",
      "Processing Record 36 of Set 3 | boyuibe\n",
      "Processing Record 37 of Set 3 | esperance\n",
      "Processing Record 38 of Set 3 | ancud\n",
      "Processing Record 39 of Set 3 | hasaki\n",
      "Processing Record 40 of Set 3 | katsiveli\n",
      "not found skipping.\n",
      "Processing Record 41 of Set 3 | irtyshskiy\n",
      "Processing Record 42 of Set 3 | carnarvon\n",
      "Processing Record 43 of Set 3 | suao\n",
      "not found skipping.\n",
      "Processing Record 44 of Set 3 | mwene-ditu\n",
      "Processing Record 45 of Set 3 | beringovskiy\n",
      "Processing Record 46 of Set 3 | tral\n",
      "Processing Record 47 of Set 3 | provideniya\n",
      "Processing Record 48 of Set 3 | bay roberts\n",
      "Processing Record 49 of Set 3 | pisco\n",
      "Processing Record 50 of Set 3 | saleaula\n",
      "not found skipping.\n",
      "Processing Record 1 of Set 4 | muisne\n",
      "Processing Record 2 of Set 4 | mae hong son\n",
      "Processing Record 3 of Set 4 | vardo\n",
      "Processing Record 4 of Set 4 | cayenne\n",
      "Processing Record 5 of Set 4 | saint-joseph\n",
      "Processing Record 6 of Set 4 | mount gambier\n",
      "Processing Record 7 of Set 4 | dikson\n",
      "Processing Record 8 of Set 4 | lerwick\n",
      "Processing Record 9 of Set 4 | aykhal\n",
      "Processing Record 10 of Set 4 | dunedin\n",
      "Processing Record 11 of Set 4 | palauig\n",
      "Processing Record 12 of Set 4 | osa\n",
      "Processing Record 13 of Set 4 | asekeyevo\n",
      "Processing Record 14 of Set 4 | constitucion\n",
      "Processing Record 15 of Set 4 | camocim\n",
      "Processing Record 16 of Set 4 | klaksvik\n",
      "Processing Record 17 of Set 4 | urdzhar\n",
      "not found skipping.\n",
      "Processing Record 18 of Set 4 | krasnoselkup\n",
      "Processing Record 19 of Set 4 | pachino\n",
      "Processing Record 20 of Set 4 | sibu\n",
      "Processing Record 21 of Set 4 | bredasdorp\n",
      "Processing Record 22 of Set 4 | ostrovnoy\n",
      "Processing Record 23 of Set 4 | husavik\n",
      "Processing Record 24 of Set 4 | tamandare\n",
      "Processing Record 25 of Set 4 | iqaluit\n",
      "Processing Record 26 of Set 4 | zabolottya\n",
      "not found skipping.\n",
      "Processing Record 27 of Set 4 | kachiry\n",
      "Processing Record 28 of Set 4 | rabo de peixe\n",
      "Processing Record 29 of Set 4 | haines junction\n",
      "Processing Record 30 of Set 4 | manzil jamil\n",
      "not found skipping.\n",
      "Processing Record 31 of Set 4 | tailai\n",
      "Processing Record 32 of Set 4 | maldonado\n",
      "Processing Record 33 of Set 4 | ambulu\n",
      "Processing Record 34 of Set 4 | viligili\n",
      "not found skipping.\n",
      "Processing Record 35 of Set 4 | agadir\n",
      "Processing Record 36 of Set 4 | kimbe\n"
     ]
    },
    {
     "name": "stdout",
     "output_type": "stream",
     "text": [
      "Processing Record 37 of Set 4 | havelock\n",
      "Processing Record 38 of Set 4 | hithadhoo\n",
      "Processing Record 39 of Set 4 | luderitz\n",
      "Processing Record 40 of Set 4 | namibe\n",
      "Processing Record 41 of Set 4 | miles city\n",
      "Processing Record 42 of Set 4 | tucuman\n",
      "Processing Record 43 of Set 4 | kijang\n",
      "Processing Record 44 of Set 4 | pampilhosa\n",
      "Processing Record 45 of Set 4 | nagyigmand\n",
      "Processing Record 46 of Set 4 | severo-kurilsk\n",
      "Processing Record 47 of Set 4 | yulara\n",
      "Processing Record 48 of Set 4 | snezhnogorsk\n",
      "Processing Record 49 of Set 4 | orel\n",
      "Processing Record 50 of Set 4 | vrangel\n",
      "Processing Record 1 of Set 5 | buraydah\n",
      "Processing Record 2 of Set 5 | mabaruma\n",
      "Processing Record 3 of Set 5 | lufilufi\n",
      "Processing Record 4 of Set 5 | halalo\n",
      "not found skipping.\n",
      "Processing Record 5 of Set 5 | umzimvubu\n",
      "not found skipping.\n",
      "Processing Record 6 of Set 5 | cartagena\n",
      "Processing Record 7 of Set 5 | kutum\n",
      "Processing Record 8 of Set 5 | huinan\n",
      "Processing Record 9 of Set 5 | bridgewater\n",
      "Processing Record 10 of Set 5 | anahuac\n",
      "Processing Record 11 of Set 5 | birjand\n",
      "Processing Record 12 of Set 5 | port keats\n",
      "Processing Record 13 of Set 5 | georgetown\n",
      "Processing Record 14 of Set 5 | tuskegee\n",
      "Processing Record 15 of Set 5 | indianola\n",
      "Processing Record 16 of Set 5 | sitka\n",
      "Processing Record 17 of Set 5 | belaya gora\n",
      "Processing Record 18 of Set 5 | fukue\n",
      "Processing Record 19 of Set 5 | vaitupu\n",
      "not found skipping.\n",
      "Processing Record 20 of Set 5 | kjollefjord\n",
      "Processing Record 21 of Set 5 | ahuimanu\n",
      "Processing Record 22 of Set 5 | kenai\n",
      "Processing Record 23 of Set 5 | srednekolymsk\n",
      "Processing Record 24 of Set 5 | neyshabur\n",
      "Processing Record 25 of Set 5 | nagorsk\n",
      "Processing Record 26 of Set 5 | kavaratti\n",
      "Processing Record 27 of Set 5 | batticaloa\n",
      "Processing Record 28 of Set 5 | nizwa\n",
      "Processing Record 29 of Set 5 | punto fijo\n",
      "Processing Record 30 of Set 5 | yumen\n",
      "Processing Record 31 of Set 5 | comodoro rivadavia\n",
      "Processing Record 32 of Set 5 | le mars\n",
      "Processing Record 33 of Set 5 | port lincoln\n",
      "Processing Record 34 of Set 5 | maniitsoq\n",
      "Processing Record 35 of Set 5 | mayya\n",
      "Processing Record 36 of Set 5 | bertoua\n",
      "Processing Record 37 of Set 5 | guymon\n",
      "Processing Record 38 of Set 5 | bakaly\n",
      "Processing Record 39 of Set 5 | rocha\n",
      "Processing Record 40 of Set 5 | mys shmidta\n",
      "not found skipping.\n",
      "Processing Record 41 of Set 5 | neiafu\n",
      "Processing Record 42 of Set 5 | bethel\n",
      "Processing Record 43 of Set 5 | tortoli\n",
      "Processing Record 44 of Set 5 | kyzyl-suu\n",
      "Processing Record 45 of Set 5 | mujiayingzi\n",
      "Processing Record 46 of Set 5 | bereda\n",
      "Processing Record 47 of Set 5 | salalah\n",
      "Processing Record 48 of Set 5 | pontal do parana\n",
      "Processing Record 49 of Set 5 | ilulissat\n",
      "Processing Record 50 of Set 5 | minsk\n",
      "Processing Record 1 of Set 6 | cookeville\n",
      "Processing Record 2 of Set 6 | ciudad bolivar\n",
      "Processing Record 3 of Set 6 | monopoli\n",
      "Processing Record 4 of Set 6 | narsaq\n",
      "Processing Record 5 of Set 6 | hobyo\n",
      "Processing Record 6 of Set 6 | asfi\n",
      "Processing Record 7 of Set 6 | whitehorse\n",
      "Processing Record 8 of Set 6 | laredo\n",
      "Processing Record 9 of Set 6 | corn island\n",
      "Processing Record 10 of Set 6 | nelson bay\n",
      "Processing Record 11 of Set 6 | la paz\n",
      "Processing Record 12 of Set 6 | nome\n",
      "Processing Record 13 of Set 6 | pontianak\n",
      "Processing Record 14 of Set 6 | cap-aux-meules\n",
      "Processing Record 15 of Set 6 | tarko-sale\n",
      "Processing Record 16 of Set 6 | san patricio\n",
      "Processing Record 17 of Set 6 | beipiao\n",
      "Processing Record 18 of Set 6 | port augusta\n",
      "Processing Record 19 of Set 6 | san luis\n",
      "Processing Record 20 of Set 6 | alta floresta\n",
      "Processing Record 21 of Set 6 | touros\n",
      "Processing Record 22 of Set 6 | maba\n",
      "Processing Record 23 of Set 6 | khandyga\n",
      "Processing Record 24 of Set 6 | fort-shevchenko\n",
      "Processing Record 25 of Set 6 | kiunga\n",
      "Processing Record 26 of Set 6 | kumbo\n",
      "Processing Record 27 of Set 6 | broome\n",
      "Processing Record 28 of Set 6 | tsihombe\n",
      "not found skipping.\n",
      "Processing Record 29 of Set 6 | mirandopolis\n",
      "Processing Record 30 of Set 6 | reinosa\n",
      "Processing Record 31 of Set 6 | ca mau\n",
      "Processing Record 32 of Set 6 | kodiak\n",
      "Processing Record 33 of Set 6 | asau\n",
      "Processing Record 34 of Set 6 | honiara\n",
      "Processing Record 35 of Set 6 | vila franca do campo\n",
      "Processing Record 36 of Set 6 | saint-jean-de-braye\n",
      "Processing Record 37 of Set 6 | vestmannaeyjar\n",
      "Processing Record 38 of Set 6 | dalvik\n",
      "Processing Record 39 of Set 6 | clonakilty\n",
      "Processing Record 40 of Set 6 | atasu\n",
      "Processing Record 41 of Set 6 | santa maria\n",
      "Processing Record 42 of Set 6 | ambodifototra\n",
      "not found skipping.\n",
      "Processing Record 43 of Set 6 | svetlaya\n",
      "Processing Record 44 of Set 6 | paamiut\n",
      "Processing Record 45 of Set 6 | basco\n",
      "Processing Record 46 of Set 6 | teknaf\n",
      "Processing Record 47 of Set 6 | manta\n",
      "Processing Record 48 of Set 6 | waipawa\n",
      "Processing Record 49 of Set 6 | hofn\n",
      "Processing Record 50 of Set 6 | glendive\n",
      "Processing Record 1 of Set 7 | esso\n",
      "Processing Record 2 of Set 7 | naze\n",
      "Processing Record 3 of Set 7 | mananjary\n",
      "Processing Record 4 of Set 7 | walvis bay\n",
      "Processing Record 5 of Set 7 | longyearbyen\n",
      "Processing Record 6 of Set 7 | samalaeulu\n",
      "not found skipping.\n",
      "Processing Record 7 of Set 7 | gobabis\n",
      "Processing Record 8 of Set 7 | tateyama\n",
      "Processing Record 9 of Set 7 | oxnard\n",
      "Processing Record 10 of Set 7 | baixo guandu\n",
      "Processing Record 11 of Set 7 | te anau\n",
      "Processing Record 12 of Set 7 | karatau\n",
      "Processing Record 13 of Set 7 | poum\n",
      "Processing Record 14 of Set 7 | nouadhibou\n",
      "Processing Record 15 of Set 7 | jieshi\n",
      "Processing Record 16 of Set 7 | ternate\n",
      "Processing Record 17 of Set 7 | saint george\n",
      "Processing Record 18 of Set 7 | road town\n",
      "Processing Record 19 of Set 7 | xuddur\n",
      "Processing Record 20 of Set 7 | vanimo\n",
      "Processing Record 21 of Set 7 | pyshchug\n",
      "Processing Record 22 of Set 7 | boende\n",
      "Processing Record 23 of Set 7 | constantine\n",
      "Processing Record 24 of Set 7 | belushya guba\n",
      "not found skipping.\n",
      "Processing Record 25 of Set 7 | sicamous\n",
      "Processing Record 26 of Set 7 | westport\n",
      "Processing Record 27 of Set 7 | surt\n",
      "Processing Record 28 of Set 7 | murgab\n",
      "Processing Record 29 of Set 7 | geraldton\n",
      "Processing Record 30 of Set 7 | guarapari\n",
      "Processing Record 31 of Set 7 | burkhala\n",
      "not found skipping.\n",
      "Processing Record 32 of Set 7 | iralaya\n",
      "Processing Record 33 of Set 7 | berlevag\n",
      "Processing Record 34 of Set 7 | ponta do sol\n",
      "Processing Record 35 of Set 7 | neryungri\n",
      "Processing Record 36 of Set 7 | sitio novo do tocantins\n",
      "Processing Record 37 of Set 7 | matara\n",
      "Processing Record 38 of Set 7 | rodrigues alves\n",
      "Processing Record 39 of Set 7 | saint-augustin\n",
      "Processing Record 40 of Set 7 | south gate\n",
      "Processing Record 41 of Set 7 | shieli\n",
      "Processing Record 42 of Set 7 | buritama\n",
      "Processing Record 43 of Set 7 | de aar\n",
      "Processing Record 44 of Set 7 | kavieng\n",
      "Processing Record 45 of Set 7 | chilca\n",
      "Processing Record 46 of Set 7 | teya\n",
      "Processing Record 47 of Set 7 | yairipok\n",
      "Processing Record 48 of Set 7 | lavrentiya\n",
      "Processing Record 49 of Set 7 | katobu\n",
      "Processing Record 50 of Set 7 | vostok\n",
      "Processing Record 1 of Set 8 | pinheiro\n",
      "Processing Record 2 of Set 8 | torbay\n",
      "Processing Record 3 of Set 8 | shibarghan\n",
      "not found skipping.\n",
      "Processing Record 4 of Set 8 | ahipara\n",
      "Processing Record 5 of Set 8 | gusinoye ozero\n",
      "Processing Record 6 of Set 8 | ashcroft\n",
      "Processing Record 7 of Set 8 | cidreira\n",
      "Processing Record 8 of Set 8 | ridgecrest\n",
      "Processing Record 9 of Set 8 | tecoanapa\n",
      "Processing Record 10 of Set 8 | catamarca\n",
      "Processing Record 11 of Set 8 | prainha\n",
      "Processing Record 12 of Set 8 | potsdam\n",
      "Processing Record 13 of Set 8 | amderma\n",
      "not found skipping.\n",
      "Processing Record 14 of Set 8 | amga\n",
      "Processing Record 15 of Set 8 | hengshui\n",
      "Processing Record 16 of Set 8 | wufeng\n",
      "Processing Record 17 of Set 8 | skjervoy\n",
      "Processing Record 18 of Set 8 | phan rang\n",
      "not found skipping.\n",
      "Processing Record 19 of Set 8 | okha\n",
      "Processing Record 20 of Set 8 | samarai\n",
      "Processing Record 21 of Set 8 | saint-francois\n",
      "Processing Record 22 of Set 8 | victor harbor\n",
      "Processing Record 23 of Set 8 | maceio\n",
      "Processing Record 24 of Set 8 | gravdal\n",
      "Processing Record 25 of Set 8 | ulkan\n",
      "Processing Record 26 of Set 8 | tumannyy\n",
      "not found skipping.\n",
      "Processing Record 27 of Set 8 | lata\n",
      "Processing Record 28 of Set 8 | hami\n",
      "Processing Record 29 of Set 8 | novobirilyussy\n"
     ]
    },
    {
     "name": "stdout",
     "output_type": "stream",
     "text": [
      "Processing Record 30 of Set 8 | carnduff\n",
      "Processing Record 31 of Set 8 | emerald\n",
      "Processing Record 32 of Set 8 | leirvik\n",
      "Processing Record 33 of Set 8 | livingston\n",
      "Processing Record 34 of Set 8 | arlit\n",
      "Processing Record 35 of Set 8 | qaqortoq\n",
      "Processing Record 36 of Set 8 | imbituba\n",
      "Processing Record 37 of Set 8 | coquimbo\n",
      "Processing Record 38 of Set 8 | mantua\n",
      "Processing Record 39 of Set 8 | norman wells\n",
      "Processing Record 40 of Set 8 | olafsvik\n",
      "Processing Record 41 of Set 8 | lehututu\n",
      "Processing Record 42 of Set 8 | clyde river\n",
      "Processing Record 43 of Set 8 | brzeg\n",
      "Processing Record 44 of Set 8 | tuatapere\n",
      "Processing Record 45 of Set 8 | gombe\n",
      "Processing Record 46 of Set 8 | roald\n",
      "Processing Record 47 of Set 8 | kahta\n",
      "Processing Record 48 of Set 8 | hinton\n",
      "Processing Record 49 of Set 8 | piriyapatna\n",
      "Processing Record 50 of Set 8 | rungata\n",
      "not found skipping.\n",
      "Processing Record 1 of Set 9 | huarmey\n",
      "Processing Record 2 of Set 9 | los llanos de aridane\n",
      "Processing Record 3 of Set 9 | raudeberg\n",
      "Processing Record 4 of Set 9 | moose factory\n",
      "Processing Record 5 of Set 9 | goderich\n",
      "Processing Record 6 of Set 9 | cockburn town\n",
      "Processing Record 7 of Set 9 | tandil\n",
      "Processing Record 8 of Set 9 | sorvag\n",
      "not found skipping.\n",
      "Processing Record 9 of Set 9 | dali\n",
      "Processing Record 10 of Set 9 | tripoli\n",
      "Processing Record 11 of Set 9 | aklavik\n",
      "Processing Record 12 of Set 9 | jalu\n",
      "Processing Record 13 of Set 9 | vanavara\n",
      "Processing Record 14 of Set 9 | sarangani\n",
      "Processing Record 15 of Set 9 | alofi\n",
      "Processing Record 16 of Set 9 | majholi\n",
      "Processing Record 17 of Set 9 | talnakh\n",
      "Processing Record 18 of Set 9 | calama\n",
      "Processing Record 19 of Set 9 | half moon bay\n",
      "Processing Record 20 of Set 9 | maine-soroa\n",
      "Processing Record 21 of Set 9 | karratha\n",
      "Processing Record 22 of Set 9 | progreso\n",
      "Processing Record 23 of Set 9 | bozeman\n",
      "Processing Record 24 of Set 9 | bathsheba\n",
      "Processing Record 25 of Set 9 | saint-pierre\n",
      "Processing Record 26 of Set 9 | charlottesville\n",
      "Processing Record 27 of Set 9 | mamakan\n",
      "Processing Record 28 of Set 9 | guerrero negro\n",
      "Processing Record 29 of Set 9 | zhanaozen\n",
      "Processing Record 30 of Set 9 | aswan\n",
      "Processing Record 31 of Set 9 | viesca\n",
      "Processing Record 32 of Set 9 | clayton\n",
      "Processing Record 33 of Set 9 | killam\n",
      "Processing Record 34 of Set 9 | jacqueville\n",
      "Processing Record 35 of Set 9 | mitsamiouli\n",
      "Processing Record 36 of Set 9 | ereymentau\n",
      "Processing Record 37 of Set 9 | kingaroy\n",
      "Processing Record 38 of Set 9 | yugorsk\n",
      "Processing Record 39 of Set 9 | vidim\n",
      "Processing Record 40 of Set 9 | andapa\n",
      "Processing Record 41 of Set 9 | tabuk\n",
      "Processing Record 42 of Set 9 | muzaffarpur\n",
      "Processing Record 43 of Set 9 | praia da vitoria\n",
      "Processing Record 44 of Set 9 | aloleng\n",
      "Processing Record 45 of Set 9 | mavrovi anovi\n",
      "Processing Record 46 of Set 9 | morondava\n",
      "Processing Record 47 of Set 9 | fairbanks\n",
      "Processing Record 48 of Set 9 | palabuhanratu\n",
      "not found skipping.\n",
      "Processing Record 49 of Set 9 | warqla\n",
      "not found skipping.\n",
      "Processing Record 50 of Set 9 | caravelas\n",
      "Processing Record 1 of Set 10 | lensk\n",
      "Processing Record 2 of Set 10 | lagoa\n",
      "Processing Record 3 of Set 10 | mount isa\n",
      "Processing Record 4 of Set 10 | libreville\n",
      "Processing Record 5 of Set 10 | nioro\n",
      "Processing Record 6 of Set 10 | adrar\n",
      "Processing Record 7 of Set 10 | manapparai\n",
      "Processing Record 8 of Set 10 | bambanglipuro\n",
      "Processing Record 9 of Set 10 | labutta\n",
      "not found skipping.\n",
      "Processing Record 10 of Set 10 | abha\n",
      "Processing Record 11 of Set 10 | micheweni\n",
      "Processing Record 12 of Set 10 | boshnyakovo\n",
      "Processing Record 13 of Set 10 | makakilo city\n",
      "Processing Record 14 of Set 10 | channel-port aux basques\n",
      "Processing Record 15 of Set 10 | white oak\n",
      "Processing Record 16 of Set 10 | bontang\n",
      "Processing Record 17 of Set 10 | port blair\n",
      "Processing Record 18 of Set 10 | kahului\n",
      "Processing Record 19 of Set 10 | linjiang\n",
      "Processing Record 20 of Set 10 | kyaikto\n",
      "Processing Record 21 of Set 10 | praia\n",
      "Processing Record 22 of Set 10 | spornoye\n",
      "Processing Record 23 of Set 10 | griffith\n",
      "Processing Record 24 of Set 10 | torbat-e jam\n",
      "Processing Record 25 of Set 10 | monterey\n",
      "Processing Record 26 of Set 10 | magistralnyy\n",
      "Processing Record 27 of Set 10 | lac du bonnet\n",
      "Processing Record 28 of Set 10 | manggar\n",
      "Processing Record 29 of Set 10 | tsaotun\n",
      "not found skipping.\n",
      "Processing Record 30 of Set 10 | huazolotitlan\n",
      "not found skipping.\n",
      "Processing Record 31 of Set 10 | coahuayana\n",
      "Processing Record 32 of Set 10 | kerchevskiy\n",
      "Processing Record 33 of Set 10 | bairiki\n",
      "Processing Record 34 of Set 10 | columbus\n",
      "Processing Record 35 of Set 10 | acheng\n",
      "Processing Record 36 of Set 10 | traverse city\n",
      "Processing Record 37 of Set 10 | tabory\n",
      "Processing Record 38 of Set 10 | kerki\n",
      "not found skipping.\n",
      "Processing Record 39 of Set 10 | korla\n",
      "Processing Record 40 of Set 10 | batagay-alyta\n",
      "Processing Record 41 of Set 10 | fare\n",
      "Processing Record 42 of Set 10 | kondagaon\n",
      "Processing Record 43 of Set 10 | meulaboh\n",
      "Processing Record 44 of Set 10 | havre\n",
      "Processing Record 45 of Set 10 | northam\n",
      "Processing Record 46 of Set 10 | koroni\n",
      "Processing Record 47 of Set 10 | tiarei\n",
      "Processing Record 48 of Set 10 | port macquarie\n",
      "Processing Record 49 of Set 10 | castrillon\n",
      "Processing Record 50 of Set 10 | tilichiki\n",
      "Processing Record 1 of Set 11 | cherskiy\n",
      "Processing Record 2 of Set 11 | gryazovets\n",
      "Processing Record 3 of Set 11 | yirol\n",
      "not found skipping.\n",
      "Processing Record 4 of Set 11 | sinnamary\n",
      "Processing Record 5 of Set 11 | yar-sale\n",
      "Processing Record 6 of Set 11 | nicoya\n",
      "Processing Record 7 of Set 11 | gazanjyk\n",
      "Processing Record 8 of Set 11 | trapani\n",
      "Processing Record 9 of Set 11 | vlahita\n",
      "Processing Record 10 of Set 11 | wajid\n",
      "Processing Record 11 of Set 11 | shebunino\n",
      "Processing Record 12 of Set 11 | rome\n",
      "Processing Record 13 of Set 11 | inhambane\n",
      "Processing Record 14 of Set 11 | hirara\n",
      "Processing Record 15 of Set 11 | verkhoyansk\n",
      "Processing Record 16 of Set 11 | iskateley\n",
      "Processing Record 17 of Set 11 | awjilah\n",
      "Processing Record 18 of Set 11 | antalaha\n",
      "Processing Record 19 of Set 11 | kambove\n",
      "Processing Record 20 of Set 11 | bahia blanca\n",
      "Processing Record 21 of Set 11 | maningrida\n",
      "Processing Record 22 of Set 11 | kajaani\n",
      "Processing Record 23 of Set 11 | harper\n",
      "Processing Record 24 of Set 11 | scarborough\n",
      "Processing Record 25 of Set 11 | kruisfontein\n",
      "Processing Record 26 of Set 11 | portree\n",
      "Processing Record 27 of Set 11 | bundaberg\n",
      "Processing Record 28 of Set 11 | nador\n",
      "Processing Record 29 of Set 11 | alenquer\n",
      "Processing Record 30 of Set 11 | pinerovka\n",
      "Processing Record 31 of Set 11 | pa sang\n",
      "Processing Record 32 of Set 11 | fiumicino\n",
      "Processing Record 33 of Set 11 | asyut\n",
      "Processing Record 34 of Set 11 | sioux lookout\n",
      "Processing Record 35 of Set 11 | dryden\n",
      "Processing Record 36 of Set 11 | dakar\n",
      "Processing Record 37 of Set 11 | akdepe\n",
      "Processing Record 38 of Set 11 | bamiantong\n",
      "Processing Record 39 of Set 11 | khash\n",
      "Processing Record 40 of Set 11 | devadanapatti\n",
      "not found skipping.\n",
      "Processing Record 41 of Set 11 | steinkjer\n",
      "Processing Record 42 of Set 11 | kasongo-lunda\n",
      "Processing Record 43 of Set 11 | portobelo\n",
      "Processing Record 44 of Set 11 | kindersley\n",
      "Processing Record 45 of Set 11 | porangatu\n",
      "Processing Record 46 of Set 11 | pitimbu\n",
      "Processing Record 47 of Set 11 | bilibino\n",
      "Processing Record 48 of Set 11 | beyneu\n",
      "Processing Record 49 of Set 11 | pochutla\n",
      "Processing Record 50 of Set 11 | shenzhen\n",
      "Processing Record 1 of Set 12 | jumla\n",
      "Processing Record 2 of Set 12 | miguel auza\n",
      "Processing Record 3 of Set 12 | rio cuarto\n",
      "Processing Record 4 of Set 12 | kununurra\n",
      "Processing Record 5 of Set 12 | mezen\n",
      "Processing Record 6 of Set 12 | sola\n",
      "Processing Record 7 of Set 12 | sungairaya\n",
      "Processing Record 8 of Set 12 | nerchinsk\n",
      "Processing Record 9 of Set 12 | chara\n",
      "Processing Record 10 of Set 12 | menongue\n",
      "Processing Record 11 of Set 12 | yinchuan\n",
      "Processing Record 12 of Set 12 | kieta\n",
      "Processing Record 13 of Set 12 | xapuri\n",
      "Processing Record 14 of Set 12 | cartago\n",
      "Processing Record 15 of Set 12 | sokoto\n",
      "Processing Record 16 of Set 12 | khor\n",
      "Processing Record 17 of Set 12 | coihaique\n",
      "Processing Record 18 of Set 12 | olinda\n",
      "Processing Record 19 of Set 12 | acarau\n",
      "Processing Record 20 of Set 12 | rio branco do sul\n",
      "Processing Record 21 of Set 12 | shenjiamen\n"
     ]
    },
    {
     "name": "stdout",
     "output_type": "stream",
     "text": [
      "Processing Record 22 of Set 12 | sovetskiy\n",
      "Processing Record 23 of Set 12 | ardmore\n",
      "Processing Record 24 of Set 12 | yenisehir\n",
      "Processing Record 25 of Set 12 | conakry\n",
      "Processing Record 26 of Set 12 | camacha\n",
      "Processing Record 27 of Set 12 | prado\n",
      "Processing Record 28 of Set 12 | homer\n",
      "Processing Record 29 of Set 12 | sur\n",
      "Processing Record 30 of Set 12 | kindu\n",
      "Processing Record 31 of Set 12 | mahibadhoo\n",
      "Processing Record 32 of Set 12 | derzhavinsk\n",
      "Processing Record 33 of Set 12 | leiyang\n",
      "Processing Record 34 of Set 12 | koslan\n",
      "Processing Record 35 of Set 12 | las vegas\n",
      "Processing Record 36 of Set 12 | sao joao da barra\n",
      "Processing Record 37 of Set 12 | rognan\n",
      "Processing Record 38 of Set 12 | mogochin\n",
      "not found skipping.\n",
      "Processing Record 39 of Set 12 | namatanai\n",
      "Processing Record 40 of Set 12 | boa vista\n",
      "Processing Record 41 of Set 12 | san cristobal\n",
      "Processing Record 42 of Set 12 | isangel\n",
      "Processing Record 43 of Set 12 | dzemul\n",
      "Processing Record 44 of Set 12 | francia\n",
      "Processing Record 45 of Set 12 | muravlenko\n",
      "Processing Record 46 of Set 12 | zinacantan\n",
      "Processing Record 47 of Set 12 | maymyo\n",
      "Processing Record 48 of Set 12 | puttur\n",
      "Processing Record 49 of Set 12 | bardiyah\n",
      "Processing Record 50 of Set 12 | lakatoro\n",
      "Processing Record 1 of Set 13 | nhulunbuy\n",
      "Processing Record 2 of Set 13 | nemuro\n",
      "Processing Record 3 of Set 13 | kurgan\n",
      "Processing Record 4 of Set 13 | pangody\n",
      "Processing Record 5 of Set 13 | lompoc\n",
      "Processing Record 6 of Set 13 | mogadishu\n",
      "Processing Record 7 of Set 13 | utiroa\n",
      "not found skipping.\n",
      "Processing Record 8 of Set 13 | teeli\n",
      "Processing Record 9 of Set 13 | arona\n",
      "Processing Record 10 of Set 13 | sibolga\n",
      "Processing Record 11 of Set 13 | margate\n",
      "Processing Record 12 of Set 13 | grindavik\n",
      "Processing Record 13 of Set 13 | hammerfest\n",
      "Processing Record 14 of Set 13 | marabba\n",
      "Processing Record 15 of Set 13 | fougamou\n",
      "Processing Record 16 of Set 13 | nyagan\n",
      "Processing Record 17 of Set 13 | hokitika\n",
      "Processing Record 18 of Set 13 | kidodi\n",
      "data retrieval complete\n"
     ]
    }
   ],
   "source": [
    "url = f\"https://api.openweathermap.org/data/2.5/weather?lat={32.08}&lon={-81.09}&appid={weather_api_key}&units=imperial\"\n",
    "weather_data=[]\n",
    "\n",
    "print(\"Beginning Retrieval\")\n",
    "print(\"-------------------\")\n",
    "\n",
    "record = 1\n",
    "set = 1\n",
    "\n",
    "for i, city in enumerate(cities):\n",
    "     if (i % 50 == 0 and i >= 50):\n",
    "         set +=1\n",
    "         record = 1\n",
    "         time.sleep(60)\n",
    "        \n",
    "     cityurl = url+\"&q=\"+city\n",
    "     print (\"Processing Record %s of Set %s | %s\" % (record, set, city))\n",
    "     record += 1\n",
    "    \n",
    "    \n",
    "     try: \n",
    "        \n",
    "\n",
    "         city_weather = requests.get(cityurl).json()\n",
    "        \n",
    "         lat= city_weather[\"coord\"][\"lat\"]\n",
    "         lng= city_weather[\"coord\"][\"lon\"]\n",
    "         max_temp= city_weather[\"main\"][\"temp_max\"]\n",
    "         humidity= city_weather[\"main\"][\"humidity\"]\n",
    "         clouds= city_weather[\"clouds\"][\"all\"]\n",
    "         wind= city_weather[\"wind\"][\"speed\"]\n",
    "         country= city_weather[\"sys\"][\"country\"]\n",
    "         date= city_weather[\"dt\"]\n",
    "        \n",
    "         weather_data.append({\"City\": city,\n",
    "                             \"Lat\": lat,\n",
    "                             \"Long\": lng,\n",
    "                             \"Max Temp\": max_temp,\n",
    "                             \"Humidity\": humidity,\n",
    "                             \"Cloudiness\": clouds,\n",
    "                             \"Wind Speed\": wind,\n",
    "                             \"Country\": country,\n",
    "                             \"Date\": date})\n",
    "        \n",
    "     except: \n",
    "         print(\"not found skipping.\")\n",
    "         pass\n",
    "    \n",
    " print(\"data retrieval complete\")      \n",
    "\n"
   ]
  },
  {
   "cell_type": "markdown",
   "metadata": {},
   "source": [
    "### Convert Raw Data to DataFrame\n",
    "* Export the city data into a .csv.\n",
    "* Display the DataFrame"
   ]
  },
  {
   "cell_type": "code",
   "execution_count": 19,
   "metadata": {},
   "outputs": [
    {
     "data": {
      "text/html": [
       "<div>\n",
       "<style scoped>\n",
       "    .dataframe tbody tr th:only-of-type {\n",
       "        vertical-align: middle;\n",
       "    }\n",
       "\n",
       "    .dataframe tbody tr th {\n",
       "        vertical-align: top;\n",
       "    }\n",
       "\n",
       "    .dataframe thead th {\n",
       "        text-align: right;\n",
       "    }\n",
       "</style>\n",
       "<table border=\"1\" class=\"dataframe\">\n",
       "  <thead>\n",
       "    <tr style=\"text-align: right;\">\n",
       "      <th></th>\n",
       "      <th>City</th>\n",
       "      <th>Lat</th>\n",
       "      <th>Long</th>\n",
       "      <th>Max Temp</th>\n",
       "      <th>Humidity</th>\n",
       "      <th>Cloudiness</th>\n",
       "      <th>Wind Speed</th>\n",
       "      <th>Country</th>\n",
       "      <th>Date</th>\n",
       "    </tr>\n",
       "  </thead>\n",
       "  <tbody>\n",
       "    <tr>\n",
       "      <th>0</th>\n",
       "      <td>port hawkesbury</td>\n",
       "      <td>45.6169</td>\n",
       "      <td>-61.3485</td>\n",
       "      <td>56.59</td>\n",
       "      <td>94</td>\n",
       "      <td>100</td>\n",
       "      <td>6.91</td>\n",
       "      <td>CA</td>\n",
       "      <td>1665015594</td>\n",
       "    </tr>\n",
       "    <tr>\n",
       "      <th>1</th>\n",
       "      <td>east london</td>\n",
       "      <td>-33.0153</td>\n",
       "      <td>27.9116</td>\n",
       "      <td>64.67</td>\n",
       "      <td>83</td>\n",
       "      <td>100</td>\n",
       "      <td>7.34</td>\n",
       "      <td>ZA</td>\n",
       "      <td>1665015410</td>\n",
       "    </tr>\n",
       "    <tr>\n",
       "      <th>2</th>\n",
       "      <td>hambantota</td>\n",
       "      <td>6.1241</td>\n",
       "      <td>81.1185</td>\n",
       "      <td>78.15</td>\n",
       "      <td>82</td>\n",
       "      <td>100</td>\n",
       "      <td>16.69</td>\n",
       "      <td>LK</td>\n",
       "      <td>1665015594</td>\n",
       "    </tr>\n",
       "    <tr>\n",
       "      <th>3</th>\n",
       "      <td>punta arenas</td>\n",
       "      <td>-53.1500</td>\n",
       "      <td>-70.9167</td>\n",
       "      <td>44.71</td>\n",
       "      <td>76</td>\n",
       "      <td>75</td>\n",
       "      <td>13.80</td>\n",
       "      <td>CL</td>\n",
       "      <td>1665015595</td>\n",
       "    </tr>\n",
       "    <tr>\n",
       "      <th>4</th>\n",
       "      <td>hilo</td>\n",
       "      <td>19.7297</td>\n",
       "      <td>-155.0900</td>\n",
       "      <td>83.25</td>\n",
       "      <td>79</td>\n",
       "      <td>100</td>\n",
       "      <td>5.99</td>\n",
       "      <td>US</td>\n",
       "      <td>1665015596</td>\n",
       "    </tr>\n",
       "    <tr>\n",
       "      <th>...</th>\n",
       "      <td>...</td>\n",
       "      <td>...</td>\n",
       "      <td>...</td>\n",
       "      <td>...</td>\n",
       "      <td>...</td>\n",
       "      <td>...</td>\n",
       "      <td>...</td>\n",
       "      <td>...</td>\n",
       "      <td>...</td>\n",
       "    </tr>\n",
       "    <tr>\n",
       "      <th>566</th>\n",
       "      <td>marabba</td>\n",
       "      <td>12.3500</td>\n",
       "      <td>32.1833</td>\n",
       "      <td>75.60</td>\n",
       "      <td>72</td>\n",
       "      <td>91</td>\n",
       "      <td>9.10</td>\n",
       "      <td>SD</td>\n",
       "      <td>1665016626</td>\n",
       "    </tr>\n",
       "    <tr>\n",
       "      <th>567</th>\n",
       "      <td>fougamou</td>\n",
       "      <td>-1.2154</td>\n",
       "      <td>10.5838</td>\n",
       "      <td>73.18</td>\n",
       "      <td>98</td>\n",
       "      <td>100</td>\n",
       "      <td>2.37</td>\n",
       "      <td>GA</td>\n",
       "      <td>1665016627</td>\n",
       "    </tr>\n",
       "    <tr>\n",
       "      <th>568</th>\n",
       "      <td>nyagan</td>\n",
       "      <td>62.1406</td>\n",
       "      <td>65.3936</td>\n",
       "      <td>41.09</td>\n",
       "      <td>94</td>\n",
       "      <td>96</td>\n",
       "      <td>4.34</td>\n",
       "      <td>RU</td>\n",
       "      <td>1665016329</td>\n",
       "    </tr>\n",
       "    <tr>\n",
       "      <th>569</th>\n",
       "      <td>hokitika</td>\n",
       "      <td>-42.7167</td>\n",
       "      <td>170.9667</td>\n",
       "      <td>46.74</td>\n",
       "      <td>36</td>\n",
       "      <td>0</td>\n",
       "      <td>8.99</td>\n",
       "      <td>NZ</td>\n",
       "      <td>1665016628</td>\n",
       "    </tr>\n",
       "    <tr>\n",
       "      <th>570</th>\n",
       "      <td>kidodi</td>\n",
       "      <td>-7.6036</td>\n",
       "      <td>37.0044</td>\n",
       "      <td>65.95</td>\n",
       "      <td>91</td>\n",
       "      <td>28</td>\n",
       "      <td>0.54</td>\n",
       "      <td>TZ</td>\n",
       "      <td>1665016628</td>\n",
       "    </tr>\n",
       "  </tbody>\n",
       "</table>\n",
       "<p>571 rows × 9 columns</p>\n",
       "</div>"
      ],
      "text/plain": [
       "                City      Lat      Long  Max Temp  Humidity  Cloudiness  \\\n",
       "0    port hawkesbury  45.6169  -61.3485     56.59        94         100   \n",
       "1        east london -33.0153   27.9116     64.67        83         100   \n",
       "2         hambantota   6.1241   81.1185     78.15        82         100   \n",
       "3       punta arenas -53.1500  -70.9167     44.71        76          75   \n",
       "4               hilo  19.7297 -155.0900     83.25        79         100   \n",
       "..               ...      ...       ...       ...       ...         ...   \n",
       "566          marabba  12.3500   32.1833     75.60        72          91   \n",
       "567         fougamou  -1.2154   10.5838     73.18        98         100   \n",
       "568           nyagan  62.1406   65.3936     41.09        94          96   \n",
       "569         hokitika -42.7167  170.9667     46.74        36           0   \n",
       "570           kidodi  -7.6036   37.0044     65.95        91          28   \n",
       "\n",
       "     Wind Speed Country        Date  \n",
       "0          6.91      CA  1665015594  \n",
       "1          7.34      ZA  1665015410  \n",
       "2         16.69      LK  1665015594  \n",
       "3         13.80      CL  1665015595  \n",
       "4          5.99      US  1665015596  \n",
       "..          ...     ...         ...  \n",
       "566        9.10      SD  1665016626  \n",
       "567        2.37      GA  1665016627  \n",
       "568        4.34      RU  1665016329  \n",
       "569        8.99      NZ  1665016628  \n",
       "570        0.54      TZ  1665016628  \n",
       "\n",
       "[571 rows x 9 columns]"
      ]
     },
     "execution_count": 19,
     "metadata": {},
     "output_type": "execute_result"
    }
   ],
   "source": [
    "cityDF = pd.DataFrame(weather_data)\n",
    "cityDF\n",
    "\n"
   ]
  },
  {
   "cell_type": "code",
   "execution_count": 20,
   "metadata": {},
   "outputs": [
    {
     "data": {
      "text/html": [
       "<div>\n",
       "<style scoped>\n",
       "    .dataframe tbody tr th:only-of-type {\n",
       "        vertical-align: middle;\n",
       "    }\n",
       "\n",
       "    .dataframe tbody tr th {\n",
       "        vertical-align: top;\n",
       "    }\n",
       "\n",
       "    .dataframe thead th {\n",
       "        text-align: right;\n",
       "    }\n",
       "</style>\n",
       "<table border=\"1\" class=\"dataframe\">\n",
       "  <thead>\n",
       "    <tr style=\"text-align: right;\">\n",
       "      <th></th>\n",
       "      <th>Lat</th>\n",
       "      <th>Long</th>\n",
       "      <th>Max Temp</th>\n",
       "      <th>Humidity</th>\n",
       "      <th>Cloudiness</th>\n",
       "      <th>Wind Speed</th>\n",
       "      <th>Date</th>\n",
       "    </tr>\n",
       "  </thead>\n",
       "  <tbody>\n",
       "    <tr>\n",
       "      <th>count</th>\n",
       "      <td>571.000000</td>\n",
       "      <td>571.000000</td>\n",
       "      <td>571.000000</td>\n",
       "      <td>571.000000</td>\n",
       "      <td>571.000000</td>\n",
       "      <td>571.000000</td>\n",
       "      <td>5.710000e+02</td>\n",
       "    </tr>\n",
       "    <tr>\n",
       "      <th>mean</th>\n",
       "      <td>21.670889</td>\n",
       "      <td>17.234092</td>\n",
       "      <td>61.453783</td>\n",
       "      <td>72.910683</td>\n",
       "      <td>58.619965</td>\n",
       "      <td>8.640053</td>\n",
       "      <td>1.665016e+09</td>\n",
       "    </tr>\n",
       "    <tr>\n",
       "      <th>std</th>\n",
       "      <td>33.192448</td>\n",
       "      <td>90.838507</td>\n",
       "      <td>17.989507</td>\n",
       "      <td>20.904983</td>\n",
       "      <td>39.195115</td>\n",
       "      <td>6.116805</td>\n",
       "      <td>3.113369e+02</td>\n",
       "    </tr>\n",
       "    <tr>\n",
       "      <th>min</th>\n",
       "      <td>-54.800000</td>\n",
       "      <td>-175.200000</td>\n",
       "      <td>1.580000</td>\n",
       "      <td>7.000000</td>\n",
       "      <td>0.000000</td>\n",
       "      <td>0.000000</td>\n",
       "      <td>1.665015e+09</td>\n",
       "    </tr>\n",
       "    <tr>\n",
       "      <th>25%</th>\n",
       "      <td>-6.169300</td>\n",
       "      <td>-61.010900</td>\n",
       "      <td>48.180000</td>\n",
       "      <td>62.500000</td>\n",
       "      <td>20.000000</td>\n",
       "      <td>4.050000</td>\n",
       "      <td>1.665016e+09</td>\n",
       "    </tr>\n",
       "    <tr>\n",
       "      <th>50%</th>\n",
       "      <td>27.117200</td>\n",
       "      <td>20.756400</td>\n",
       "      <td>63.990000</td>\n",
       "      <td>78.000000</td>\n",
       "      <td>74.000000</td>\n",
       "      <td>7.380000</td>\n",
       "      <td>1.665016e+09</td>\n",
       "    </tr>\n",
       "    <tr>\n",
       "      <th>75%</th>\n",
       "      <td>49.941700</td>\n",
       "      <td>97.584250</td>\n",
       "      <td>76.920000</td>\n",
       "      <td>89.000000</td>\n",
       "      <td>99.000000</td>\n",
       "      <td>11.500000</td>\n",
       "      <td>1.665016e+09</td>\n",
       "    </tr>\n",
       "    <tr>\n",
       "      <th>max</th>\n",
       "      <td>78.218600</td>\n",
       "      <td>179.316700</td>\n",
       "      <td>95.650000</td>\n",
       "      <td>100.000000</td>\n",
       "      <td>100.000000</td>\n",
       "      <td>39.350000</td>\n",
       "      <td>1.665017e+09</td>\n",
       "    </tr>\n",
       "  </tbody>\n",
       "</table>\n",
       "</div>"
      ],
      "text/plain": [
       "              Lat        Long    Max Temp    Humidity  Cloudiness  Wind Speed  \\\n",
       "count  571.000000  571.000000  571.000000  571.000000  571.000000  571.000000   \n",
       "mean    21.670889   17.234092   61.453783   72.910683   58.619965    8.640053   \n",
       "std     33.192448   90.838507   17.989507   20.904983   39.195115    6.116805   \n",
       "min    -54.800000 -175.200000    1.580000    7.000000    0.000000    0.000000   \n",
       "25%     -6.169300  -61.010900   48.180000   62.500000   20.000000    4.050000   \n",
       "50%     27.117200   20.756400   63.990000   78.000000   74.000000    7.380000   \n",
       "75%     49.941700   97.584250   76.920000   89.000000   99.000000   11.500000   \n",
       "max     78.218600  179.316700   95.650000  100.000000  100.000000   39.350000   \n",
       "\n",
       "               Date  \n",
       "count  5.710000e+02  \n",
       "mean   1.665016e+09  \n",
       "std    3.113369e+02  \n",
       "min    1.665015e+09  \n",
       "25%    1.665016e+09  \n",
       "50%    1.665016e+09  \n",
       "75%    1.665016e+09  \n",
       "max    1.665017e+09  "
      ]
     },
     "execution_count": 20,
     "metadata": {},
     "output_type": "execute_result"
    }
   ],
   "source": [
    "cityDF.describe()"
   ]
  },
  {
   "cell_type": "markdown",
   "metadata": {},
   "source": [
    "## Inspect the data and remove the cities where the humidity > 100%.\n",
    "----\n",
    "Skip this step if there are no cities that have humidity > 100%. "
   ]
  },
  {
   "cell_type": "code",
   "execution_count": 21,
   "metadata": {},
   "outputs": [],
   "source": [
    "clean_city_data = cityDF"
   ]
  },
  {
   "cell_type": "code",
   "execution_count": 17,
   "metadata": {},
   "outputs": [
    {
     "data": {
      "text/plain": [
       "Int64Index([], dtype='int64')"
      ]
     },
     "execution_count": 17,
     "metadata": {},
     "output_type": "execute_result"
    }
   ],
   "source": [
    "#  Get the indices of cities that have humidity over 100%.\n"
   ]
  },
  {
   "cell_type": "code",
   "execution_count": 19,
   "metadata": {},
   "outputs": [
    {
     "data": {
      "text/html": [
       "<div>\n",
       "<style scoped>\n",
       "    .dataframe tbody tr th:only-of-type {\n",
       "        vertical-align: middle;\n",
       "    }\n",
       "\n",
       "    .dataframe tbody tr th {\n",
       "        vertical-align: top;\n",
       "    }\n",
       "\n",
       "    .dataframe thead th {\n",
       "        text-align: right;\n",
       "    }\n",
       "</style>\n",
       "<table border=\"1\" class=\"dataframe\">\n",
       "  <thead>\n",
       "    <tr style=\"text-align: right;\">\n",
       "      <th></th>\n",
       "      <th>City</th>\n",
       "      <th>Lat</th>\n",
       "      <th>Lng</th>\n",
       "      <th>Max Temp</th>\n",
       "      <th>Humidity</th>\n",
       "      <th>Cloudiness</th>\n",
       "      <th>Wind Speed</th>\n",
       "      <th>Country</th>\n",
       "      <th>Date</th>\n",
       "    </tr>\n",
       "  </thead>\n",
       "  <tbody>\n",
       "    <tr>\n",
       "      <td>0</td>\n",
       "      <td>butaritari</td>\n",
       "      <td>3.07</td>\n",
       "      <td>172.79</td>\n",
       "      <td>83.32</td>\n",
       "      <td>74</td>\n",
       "      <td>84</td>\n",
       "      <td>10.42</td>\n",
       "      <td>KI</td>\n",
       "      <td>1593605283</td>\n",
       "    </tr>\n",
       "    <tr>\n",
       "      <td>1</td>\n",
       "      <td>yerbogachen</td>\n",
       "      <td>61.28</td>\n",
       "      <td>108.01</td>\n",
       "      <td>79.52</td>\n",
       "      <td>58</td>\n",
       "      <td>20</td>\n",
       "      <td>7.70</td>\n",
       "      <td>RU</td>\n",
       "      <td>1593605121</td>\n",
       "    </tr>\n",
       "    <tr>\n",
       "      <td>2</td>\n",
       "      <td>cape town</td>\n",
       "      <td>-33.93</td>\n",
       "      <td>18.42</td>\n",
       "      <td>73.00</td>\n",
       "      <td>77</td>\n",
       "      <td>27</td>\n",
       "      <td>4.70</td>\n",
       "      <td>ZA</td>\n",
       "      <td>1593605039</td>\n",
       "    </tr>\n",
       "    <tr>\n",
       "      <td>3</td>\n",
       "      <td>touba</td>\n",
       "      <td>8.28</td>\n",
       "      <td>-7.68</td>\n",
       "      <td>79.97</td>\n",
       "      <td>75</td>\n",
       "      <td>82</td>\n",
       "      <td>3.58</td>\n",
       "      <td>CI</td>\n",
       "      <td>1593605284</td>\n",
       "    </tr>\n",
       "    <tr>\n",
       "      <td>4</td>\n",
       "      <td>jamestown</td>\n",
       "      <td>42.10</td>\n",
       "      <td>-79.24</td>\n",
       "      <td>64.00</td>\n",
       "      <td>88</td>\n",
       "      <td>1</td>\n",
       "      <td>6.93</td>\n",
       "      <td>US</td>\n",
       "      <td>1593605284</td>\n",
       "    </tr>\n",
       "  </tbody>\n",
       "</table>\n",
       "</div>"
      ],
      "text/plain": [
       "          City    Lat     Lng  Max Temp  Humidity  Cloudiness  Wind Speed  \\\n",
       "0   butaritari   3.07  172.79     83.32        74          84       10.42   \n",
       "1  yerbogachen  61.28  108.01     79.52        58          20        7.70   \n",
       "2    cape town -33.93   18.42     73.00        77          27        4.70   \n",
       "3        touba   8.28   -7.68     79.97        75          82        3.58   \n",
       "4    jamestown  42.10  -79.24     64.00        88           1        6.93   \n",
       "\n",
       "  Country        Date  \n",
       "0      KI  1593605283  \n",
       "1      RU  1593605121  \n",
       "2      ZA  1593605039  \n",
       "3      CI  1593605284  \n",
       "4      US  1593605284  "
      ]
     },
     "execution_count": 19,
     "metadata": {},
     "output_type": "execute_result"
    }
   ],
   "source": [
    "# Make a new DataFrame equal to the city data to drop all humidity outliers by index.\n",
    "# Passing \"inplace=False\" will make a copy of the city_data DataFrame, which we call \"clean_city_data\".\n"
   ]
  },
  {
   "cell_type": "code",
   "execution_count": 24,
   "metadata": {},
   "outputs": [],
   "source": [
    "lats = clean_city_data.Lat\n",
    "max_temp = clean_city_data[\"Max Temp\"]\n",
    "humidity = clean_city_data.Humidity\n",
    "cloudiness = clean_city_data.Cloudiness\n",
    "speed = clean_city_data[\"Wind Speed\"]\n",
    "\n",
    "clean_city_data.to_csv(output_data_file, index_label = \"City_ID\")"
   ]
  },
  {
   "cell_type": "markdown",
   "metadata": {},
   "source": [
    "## Plotting the Data\n",
    "* Use proper labeling of the plots using plot titles (including date of analysis) and axes labels.\n",
    "* Save the plotted figures as .pngs."
   ]
  },
  {
   "cell_type": "markdown",
   "metadata": {},
   "source": [
    "## Latitude vs. Temperature Plot"
   ]
  },
  {
   "cell_type": "code",
   "execution_count": 28,
   "metadata": {
    "scrolled": true
   },
   "outputs": [
    {
     "data": {
      "image/png": "[encoded data removed]",
      "text/plain": [
       "<Figure size 432x288 with 1 Axes>"
      ]
     },
     "metadata": {
      "needs_background": "light"
     },
     "output_type": "display_data"
    }
   ],
   "source": [
    "plt.scatter(lats, max_temp, edgecolor = \"black\")\n",
    "plt.title(\"City Latitude vs Max Temperature\")\n",
    "plt.ylabel(\"Max Temperature (F)\")\n",
    "plt.xlabel(\"Latitude\")\n",
    "plt.savefig(\"../output_data/MaxT.png\")\n",
    "plt.show()"
   ]
  },
  {
   "cell_type": "markdown",
   "metadata": {},
   "source": [
    "## Latitude vs. Humidity Plot"
   ]
  },
  {
   "cell_type": "code",
   "execution_count": 29,
   "metadata": {},
   "outputs": [
    {
     "data": {
      "image/png": "[encoded data removed]",
      "text/plain": [
       "<Figure size 432x288 with 1 Axes>"
      ]
     },
     "metadata": {
      "needs_background": "light"
     },
     "output_type": "display_data"
    }
   ],
   "source": [
    "plt.scatter(lats, humidity, edgecolor = \"black\")\n",
    "plt.title(\"City Latitude vs Humidity\")\n",
    "plt.ylabel(\"Humidity\")\n",
    "plt.xlabel(\"Latitude\")\n",
    "plt.savefig(\"../output_data/Humidity.png\")\n",
    "plt.show()"
   ]
  },
  {
   "cell_type": "markdown",
   "metadata": {},
   "source": [
    "## Latitude vs. Cloudiness Plot"
   ]
  },
  {
   "cell_type": "code",
   "execution_count": 30,
   "metadata": {},
   "outputs": [
    {
     "data": {
      "image/png": "[encoded data removed]",
      "text/plain": [
       "<Figure size 432x288 with 1 Axes>"
      ]
     },
     "metadata": {
      "needs_background": "light"
     },
     "output_type": "display_data"
    }
   ],
   "source": [
    "plt.scatter(lats, cloudiness, edgecolor = \"black\")\n",
    "plt.title(\"City Latitude vs Cloudiness\")\n",
    "plt.ylabel(\"Cloudiness\")\n",
    "plt.xlabel(\"Latitude\")\n",
    "plt.savefig(\"../output_data/Cloudiness.png\")\n",
    "plt.show()"
   ]
  },
  {
   "cell_type": "markdown",
   "metadata": {},
   "source": [
    "## Latitude vs. Wind Speed Plot"
   ]
  },
  {
   "cell_type": "code",
   "execution_count": 31,
   "metadata": {},
   "outputs": [
    {
     "data": {
      "image/png": "[encoded data removed]",
      "text/plain": [
       "<Figure size 432x288 with 1 Axes>"
      ]
     },
     "metadata": {
      "needs_background": "light"
     },
     "output_type": "display_data"
    }
   ],
   "source": [
    "plt.scatter(lats, speed, edgecolor = \"black\")\n",
    "plt.title(\"City Latitude vs Wind Speed\")\n",
    "plt.ylabel(\"Wind Speed\")\n",
    "plt.xlabel(\"Latitude\")\n",
    "plt.savefig(\"../output_data/Wind_Speed.png\")\n",
    "plt.show()"
   ]
  },
  {
   "cell_type": "markdown",
   "metadata": {},
   "source": [
    "## Linear Regression"
   ]
  },
  {
   "cell_type": "code",
   "execution_count": 24,
   "metadata": {},
   "outputs": [],
   "source": []
  },
  {
   "cell_type": "markdown",
   "metadata": {},
   "source": [
    "####  Northern Hemisphere - Max Temp vs. Latitude Linear Regression"
   ]
  },
  {
   "cell_type": "code",
   "execution_count": 25,
   "metadata": {},
   "outputs": [
    {
     "name": "stdout",
     "output_type": "stream",
     "text": [
      "The r-value is: 0.46937863826630627\n"
     ]
    },
    {
     "data": {
      "image/png": "[encoded data removed]",
      "text/plain": [
       "<Figure size 432x288 with 1 Axes>"
      ]
     },
     "metadata": {
      "needs_background": "light"
     },
     "output_type": "display_data"
    }
   ],
   "source": []
  },
  {
   "cell_type": "markdown",
   "metadata": {},
   "source": [
    "####  Southern Hemisphere - Max Temp vs. Latitude Linear Regression"
   ]
  },
  {
   "cell_type": "code",
   "execution_count": 26,
   "metadata": {},
   "outputs": [
    {
     "name": "stdout",
     "output_type": "stream",
     "text": [
      "The r-value is: 0.6082708688906918\n"
     ]
    },
    {
     "data": {
      "image/png": "[encoded data removed]",
      "text/plain": [
       "<Figure size 432x288 with 1 Axes>"
      ]
     },
     "metadata": {
      "needs_background": "light"
     },
     "output_type": "display_data"
    }
   ],
   "source": []
  },
  {
   "cell_type": "markdown",
   "metadata": {},
   "source": [
    "####  Northern Hemisphere - Humidity (%) vs. Latitude Linear Regression"
   ]
  },
  {
   "cell_type": "code",
   "execution_count": 27,
   "metadata": {},
   "outputs": [
    {
     "name": "stdout",
     "output_type": "stream",
     "text": [
      "The r-value is: 0.000543987878808455\n"
     ]
    },
    {
     "data": {
      "image/png": "[encoded data removed]",
      "text/plain": [
       "<Figure size 432x288 with 1 Axes>"
      ]
     },
     "metadata": {
      "needs_background": "light"
     },
     "output_type": "display_data"
    }
   ],
   "source": []
  },
  {
   "cell_type": "markdown",
   "metadata": {},
   "source": [
    "####  Southern Hemisphere - Humidity (%) vs. Latitude Linear Regression"
   ]
  },
  {
   "cell_type": "code",
   "execution_count": 28,
   "metadata": {},
   "outputs": [
    {
     "name": "stdout",
     "output_type": "stream",
     "text": [
      "The r-value is: 0.014985174297345524\n"
     ]
    },
    {
     "data": {
      "image/png": "[encoded data removed]",
      "text/plain": [
       "<Figure size 432x288 with 1 Axes>"
      ]
     },
     "metadata": {
      "needs_background": "light"
     },
     "output_type": "display_data"
    }
   ],
   "source": []
  },
  {
   "cell_type": "markdown",
   "metadata": {},
   "source": [
    "####  Northern Hemisphere - Cloudiness (%) vs. Latitude Linear Regression"
   ]
  },
  {
   "cell_type": "code",
   "execution_count": 29,
   "metadata": {},
   "outputs": [
    {
     "name": "stdout",
     "output_type": "stream",
     "text": [
      "The r-value is: 0.0020898727664228514\n"
     ]
    },
    {
     "data": {
      "image/png": "[encoded data removed]",
      "text/plain": [
       "<Figure size 432x288 with 1 Axes>"
      ]
     },
     "metadata": {
      "needs_background": "light"
     },
     "output_type": "display_data"
    }
   ],
   "source": []
  },
  {
   "cell_type": "markdown",
   "metadata": {},
   "source": [
    "####  Southern Hemisphere - Cloudiness (%) vs. Latitude Linear Regression"
   ]
  },
  {
   "cell_type": "code",
   "execution_count": 30,
   "metadata": {},
   "outputs": [
    {
     "name": "stdout",
     "output_type": "stream",
     "text": [
      "The r-value is: 0.0035263772085582894\n"
     ]
    },
    {
     "data": {
      "image/png": "[encoded data removed]",
      "text/plain": [
       "<Figure size 432x288 with 1 Axes>"
      ]
     },
     "metadata": {
      "needs_background": "light"
     },
     "output_type": "display_data"
    }
   ],
   "source": []
  },
  {
   "cell_type": "markdown",
   "metadata": {},
   "source": [
    "####  Northern Hemisphere - Wind Speed (mph) vs. Latitude Linear Regression"
   ]
  },
  {
   "cell_type": "code",
   "execution_count": 31,
   "metadata": {},
   "outputs": [
    {
     "name": "stdout",
     "output_type": "stream",
     "text": [
      "The r-value is: 0.04019723576144484\n"
     ]
    },
    {
     "data": {
      "image/png": "[encoded data removed]",
      "text/plain": [
       "<Figure size 432x288 with 1 Axes>"
      ]
     },
     "metadata": {
      "needs_background": "light"
     },
     "output_type": "display_data"
    }
   ],
   "source": []
  },
  {
   "cell_type": "markdown",
   "metadata": {},
   "source": [
    "####  Southern Hemisphere - Wind Speed (mph) vs. Latitude Linear Regression"
   ]
  },
  {
   "cell_type": "code",
   "execution_count": 32,
   "metadata": {},
   "outputs": [
    {
     "name": "stdout",
     "output_type": "stream",
     "text": [
      "The r-value is: 0.017128274759839232\n"
     ]
    },
    {
     "data": {
      "image/png": "[encoded data removed]",
      "text/plain": [
       "<Figure size 432x288 with 1 Axes>"
      ]
     },
     "metadata": {
      "needs_background": "light"
     },
     "output_type": "display_data"
    }
   ],
   "source": []
  },
  {
   "cell_type": "code",
   "execution_count": null,
   "metadata": {},
   "outputs": [],
   "source": []
  }
 ],
 "metadata": {
  "anaconda-cloud": {},
  "kernel_info": {
   "name": "python3"
  },
  "kernelspec": {
   "display_name": "Python 3 (ipykernel)",
   "language": "python",
   "name": "python3"
  },
  "language_info": {
   "codemirror_mode": {
    "name": "ipython",
    "version": 3
   },
   "file_extension": ".py",
   "mimetype": "text/x-python",
   "name": "python",
   "nbconvert_exporter": "python",
   "pygments_lexer": "ipython3",
   "version": "3.8.2"
  },
  "latex_envs": {
   "LaTeX_envs_menu_present": true,
   "autoclose": false,
   "autocomplete": true,
   "bibliofile": "biblio.bib",
   "cite_by": "apalike",
   "current_citInitial": 1,
   "eqLabelWithNumbers": true,
   "eqNumInitial": 1,
   "hotkeys": {
    "equation": "Ctrl-E",
    "itemize": "Ctrl-I"
   },
   "labels_anchors": false,
   "latex_user_defs": false,
   "report_style_numbering": false,
   "user_envs_cfg": false
  },
  "nteract": {
   "version": "0.12.3"
  },
  "vscode": {
   "interpreter": {
    "hash": "31f2aee4e71d21fbe5cf8b01ff0e069b9275f58929596ceb00d14d90e3e16cd6"
   }
  }
 },
 "nbformat": 4,
 "nbformat_minor": 2
}
